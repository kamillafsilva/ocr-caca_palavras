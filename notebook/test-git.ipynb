{
  "nbformat": 4,
  "nbformat_minor": 0,
  "metadata": {
    "colab": {
      "provenance": []
    },
    "kernelspec": {
      "name": "python3",
      "display_name": "Python 3"
    },
    "language_info": {
      "name": "python"
    }
  },
  "cells": [
    {
      "cell_type": "markdown",
      "source": [
        "# Instalação dos pacotes\n",
        "\n",
        "---\n",
        "\n"
      ],
      "metadata": {
        "id": "_lmSVwAo-x_S"
      }
    },
    {
      "cell_type": "code",
      "source": [
        "!pip install opencv-python==4.6.0\n",
        "!sudo apt install tesseract-ocr\n",
        "!pip install pytesseract==0.3.9"
      ],
      "metadata": {
        "id": "Zr7S-aVjxDDr"
      },
      "execution_count": null,
      "outputs": []
    },
    {
      "cell_type": "markdown",
      "source": [
        "# Download dos dados do Tesseract\n",
        "\n",
        "---\n",
        "\n"
      ],
      "metadata": {
        "id": "ZJl1s9tL-6bQ"
      }
    },
    {
      "cell_type": "code",
      "source": [
        "!mkdir tessdata\n",
        "\n",
        "!wget -O ./tessdata/por.traineddata https://github.com/tesseract-ocr/tessdata/blob/main/por.traineddata?raw=true\n",
        "!wget -O ./tessdata/eng.traineddata https://github.com/tesseract-ocr/tessdata/blob/main/eng.traineddata?raw=true"
      ],
      "metadata": {
        "id": "8syydNGHyh0I"
      },
      "execution_count": null,
      "outputs": []
    },
    {
      "cell_type": "markdown",
      "source": [
        "# Instalação do idioma Português\n",
        "\n",
        "---\n",
        "\n"
      ],
      "metadata": {
        "id": "E25WJfOM_E9r"
      }
    },
    {
      "cell_type": "code",
      "source": [
        "!apt-get install tesseract-ocr-por"
      ],
      "metadata": {
        "id": "4G2WhCByxYMT"
      },
      "execution_count": null,
      "outputs": []
    },
    {
      "cell_type": "markdown",
      "source": [
        "# Importação dos pacotes\n",
        "\n",
        "---\n",
        "\n"
      ],
      "metadata": {
        "id": "LlnkgYMN_NYa"
      }
    },
    {
      "cell_type": "code",
      "source": [
        "import pytesseract\n",
        "from pytesseract import Output\n",
        "\n",
        "import cv2\n",
        "from google.colab.patches import cv2_imshow\n",
        "from imutils import contours\n",
        "\n",
        "import numpy as np\n",
        "import re"
      ],
      "metadata": {
        "id": "0oiQwQYxxPyX"
      },
      "execution_count": 5,
      "outputs": []
    },
    {
      "cell_type": "markdown",
      "source": [
        "# Função `extrair_dados_imagem`\n",
        "A função extraí da imagem os caracteres e seus contornos.\n",
        "\n",
        "---\n",
        "\n"
      ],
      "metadata": {
        "id": "evUOUwgC_aFx"
      }
    },
    {
      "cell_type": "code",
      "source": [
        "def extrair_dados_imagem(img, config_tesseract):\n",
        "\n",
        "  img_copy = img.copy()\n",
        "  gray = cv2.cvtColor(img_copy, cv2.COLOR_BGR2GRAY) # convertendo a imagem para a escala cinza\n",
        "  (aux, black) = cv2.threshold(gray, 127, 255, cv2.THRESH_BINARY_INV) # limiarizando a imagem\n",
        "\n",
        "  thresh = cv2.threshold(black,0,255,cv2.THRESH_OTSU + cv2.THRESH_BINARY)[1]\n",
        "\n",
        "  # encontando os contornos dos caracteres\n",
        "  cnts = cv2.findContours(thresh, cv2.RETR_EXTERNAL, cv2.CHAIN_APPROX_SIMPLE)\n",
        "  cnts = cnts[0] if len(cnts) == 2 else cnts[1]\n",
        "  cnts, _ = contours.sort_contours(cnts, method=\"top-to-bottom\")\n",
        "\n",
        "  linhas = [] # lista para guardar os caracters extraídos\n",
        "  contornos = [] # lista para guardar os contornos dos caracters\n",
        "\n",
        "  # variáveis auxiliares\n",
        "  texto = []\n",
        "  box_texto = []\n",
        "  ROI_number = 0\n",
        "  y_ant = 0\n",
        "  min_conf = 0 # usado para filtrar espaços em branco extraídos da imagem\n",
        "\n",
        "  for c in cnts:\n",
        "\n",
        "    area = cv2.contourArea(c)\n",
        "\n",
        "    if area > 1:\n",
        "\n",
        "        x,y,w,h = cv2.boundingRect(c)\n",
        "\n",
        "        ROI = 255 - img_copy[y-3:y+h+3, x-3:x+w+3] #area da imagem onde o caracter está\n",
        "\n",
        "        # processamento para mellhorar a deteccção do caracter\n",
        "        ROI_afterd = cv2.resize(ROI, (ROI.shape[1]*3, ROI.shape[0]*3), interpolation=cv2.INTER_LANCZOS4)\n",
        "        gray = cv2.cvtColor(ROI_afterd, cv2.COLOR_BGR2GRAY)\n",
        "        sharpen_kernel = np.array([[-1,-1,-1], [-1,9,-1], [-1,-1,-1]])\n",
        "        ROI_sharpen = cv2.filter2D(gray, -1, sharpen_kernel)\n",
        "        ROI_thresh = cv2.threshold(ROI_sharpen, 0, 255, cv2.THRESH_BINARY_INV + cv2.THRESH_OTSU)[1]\n",
        "\n",
        "        #extraí o texto\n",
        "        osd = pytesseract.image_to_data(ROI_thresh, lang = 'eng', config = config_tesseract, output_type = Output.DICT)\n",
        "\n",
        "        letra = np.array(osd['text'])\n",
        "        conf = np.array(osd['conf'])\n",
        "\n",
        "        letra = list(letra[conf != '-1'])\n",
        "\n",
        "        if ROI_number == 0:\n",
        "            y_ant = y\n",
        "            texto.append(letra[0])\n",
        "            box_texto.append((x, y, h, w))\n",
        "        elif y_ant == y:\n",
        "            texto.append(letra[0])\n",
        "            box_texto.append((x, y, h, w))\n",
        "        else:\n",
        "            y_ant = y\n",
        "            linhas.append(texto)\n",
        "            contornos.append(box_texto)\n",
        "\n",
        "            texto = []\n",
        "            box_texto = []\n",
        "\n",
        "            texto.append(letra[0])\n",
        "            box_texto.append((x, y, h, w))\n",
        "\n",
        "        ROI_number += 1\n",
        "\n",
        "  linhas.append(texto)\n",
        "  contornos.append(box_texto)\n",
        "\n",
        "  return linhas, contornos"
      ],
      "metadata": {
        "id": "Bsqw40A2DaU0"
      },
      "execution_count": 6,
      "outputs": []
    },
    {
      "cell_type": "markdown",
      "source": [
        "# Função `encontrar_indices`\n",
        "\n",
        "---\n",
        "\n",
        "\n",
        "A função busca as palavras dentro da matriz `m` e retorna uma lista contendo o índice da palavra na matriz, um booleano indicando se a palavra está na ordem reversa ou não e a posição inicial e final da palavra dentro do indíce da matriz."
      ],
      "metadata": {
        "id": "kgwGLzAxAEUT"
      }
    },
    {
      "cell_type": "code",
      "source": [
        "def encontrar_indices(m, invertido, palavras):\n",
        "\n",
        "  lista = {}\n",
        "  for e in enumerate(m):\n",
        "\n",
        "    letras = list(e[1])\n",
        "    letras = ''.join(letras).lower()\n",
        "\n",
        "    for palavra in palavras:\n",
        "\n",
        "      if (palavra in letras):\n",
        "        match=(re.search(palavra, letras))\n",
        "        lista[palavra] = [e[0], invertido, match.span()]\n",
        "\n",
        "      elif(palavra in letras[::-1]):\n",
        "        match=(re.search(palavra, letras[::-1]))\n",
        "        lista[palavra] = [e[0], not invertido, match.span()]\n",
        "\n",
        "  return lista"
      ],
      "metadata": {
        "id": "y4WL28qo6KeO"
      },
      "execution_count": 12,
      "outputs": []
    },
    {
      "cell_type": "markdown",
      "source": [
        "# Função `encontrar_palavras`\n",
        "\n",
        "\n",
        "---\n",
        "\n",
        "\n",
        "Utiliza a função `encontrar_indices` para gerar os dicionários que contêm todas as palavras encontradas na horizontal, vertical ou nas diagonais."
      ],
      "metadata": {
        "id": "K-1IlehyBZIC"
      }
    },
    {
      "cell_type": "code",
      "source": [
        "def encontrar_palavras(linhas, palavras):\n",
        "\n",
        "  horizontal = {}\n",
        "  vertical = {}\n",
        "  diagonal_primaria = {}\n",
        "  diagonal_secundaria = {}\n",
        "\n",
        "  m = np.row_stack(linhas)\n",
        "\n",
        "  horizontal = encontrar_indices(m, True, palavras)\n",
        "  vertical = encontrar_indices(m.T, False, palavras)\n",
        "\n",
        "  diag1 = [m[::-1,:].diagonal(i) for i in range(-m.shape[0]+1,m.shape[1])]\n",
        "  diag2 = [m.diagonal(i) for i in range(m.shape[1]-1,-m.shape[0],-1)]\n",
        "\n",
        "  diagonal_primaria = encontrar_indices(diag1, True, palavras)\n",
        "  diagonal_secundaria = encontrar_indices(diag2, False, palavras)\n",
        "\n",
        "  return horizontal, vertical, diagonal_primaria, diagonal_secundaria"
      ],
      "metadata": {
        "id": "BfqKSSeg5RYM"
      },
      "execution_count": 13,
      "outputs": []
    },
    {
      "cell_type": "markdown",
      "source": [
        "# Função `marcar_palavras`\n",
        "\n",
        "\n",
        "---\n",
        "\n",
        "\n",
        "Sinaliza na imagem o local das palavras encontradas na horizontal e na vertical."
      ],
      "metadata": {
        "id": "5yfvT3GOCEsm"
      }
    },
    {
      "cell_type": "code",
      "source": [
        "def marcar_palavras(c, invertido, indices, img, cor = (255, 100, 0)):\n",
        "\n",
        "  img_final = img.copy()\n",
        "  n = c.shape[1]\n",
        "\n",
        "  for k in indices:\n",
        "\n",
        "    indice = indices[k][0]\n",
        "    inv = indices[k][1]\n",
        "    a = indices[k][2][0]\n",
        "    b = indices[k][2][1]\n",
        "\n",
        "    if(inv == invertido):\n",
        "      x = c[indice][a][0]\n",
        "      y = c[indice][a][1]\n",
        "      ponto_inicial = ((x, y))\n",
        "\n",
        "      x = c[indice][b-1][0]\n",
        "      y = c[indice][b-1][1]\n",
        "      ponto_final = ((x, y))\n",
        "    else:\n",
        "      x = c[indice][n - b][0]\n",
        "      y = c[indice][n - b][1]\n",
        "      ponto_inicial = ((x, y))\n",
        "\n",
        "      x = c[indice][n - a - 1][0]\n",
        "      y = c[indice][n - a - 1][1]\n",
        "      ponto_final = ((x, y))\n",
        "\n",
        "    cv2.rectangle(img_final, (ponto_inicial[0] + 15, ponto_inicial[1]), (ponto_final[0] - 5, ponto_final[1] + 15), cor, 1)\n",
        "  return img_final"
      ],
      "metadata": {
        "id": "GZHTiekiOGih"
      },
      "execution_count": 14,
      "outputs": []
    },
    {
      "cell_type": "markdown",
      "source": [
        "# Função `marcar_palavras_diagonal`\n",
        "\n",
        "\n",
        "---\n",
        "\n",
        "\n",
        "Sinaliza na imagem o local das palavras encontradas nas diagonais."
      ],
      "metadata": {
        "id": "3II0_i8mCWKA"
      }
    },
    {
      "cell_type": "code",
      "source": [
        "def marcar_palavras_diagonal(d, invertido, indices, img, w1 = 0, w2 = 0, cor = (255, 100, 0)):\n",
        "\n",
        "  img_final = img.copy()\n",
        "\n",
        "  for k in indices:\n",
        "\n",
        "    indice = indices[k][0]\n",
        "    inv = indices[k][1]\n",
        "    a = indices[k][2][0]\n",
        "    b = indices[k][2][1]\n",
        "\n",
        "    if(inv == invertido):\n",
        "      x = d[indice][:, a][0]\n",
        "      y = d[indice][:, a][1]\n",
        "      ponto_inicial = ((x, y))\n",
        "\n",
        "      x = d[indice][:, b-1][0]\n",
        "      y = d[indice][:, b-1][1]\n",
        "      ponto_final = ((x, y))\n",
        "    else:\n",
        "      d_flip = np.flip(d[indice], 1)\n",
        "      x = d_flip[:, a][0]\n",
        "      y = d_flip[:, a][1]\n",
        "      ponto_inicial = ((x, y))\n",
        "\n",
        "      x = d_flip[:, b-1][0]\n",
        "      y = d_flip[:, b-1][1]\n",
        "      ponto_final = ((x, y))\n",
        "\n",
        "    cv2.line(img_final, (ponto_inicial[0] + w1, ponto_inicial[1]), (ponto_final[0] + w1, ponto_final[1]), (0,255,0), 1)\n",
        "    cv2.line(img_final, (ponto_inicial[0] + w2, ponto_inicial[1] + 15), (ponto_final[0] + w2, ponto_final[1] + 15), (0,255,0), 1)\n",
        "\n",
        "  return img_final"
      ],
      "metadata": {
        "id": "ZYiOSYXbcOx3"
      },
      "execution_count": 15,
      "outputs": []
    },
    {
      "cell_type": "markdown",
      "source": [
        "# Solucionando o caça-palavras (12 x 12)\n",
        "\n",
        "---\n",
        "\n"
      ],
      "metadata": {
        "id": "ubz9uyeEXD9T"
      }
    },
    {
      "cell_type": "markdown",
      "source": [
        "## Leitura da imagem"
      ],
      "metadata": {
        "id": "YhAZDcbsXD9W"
      }
    },
    {
      "cell_type": "code",
      "source": [
        "config_tesseract = '--tessdata-dir tessdata --psm 10 --oem 2 -c tessedit_char_whitelist=ABCDEFGHIJKLMNOPQRSTUVWXYZ'\n",
        "img = cv2.imread('/content/img/caca_palavra_05.PNG')\n",
        "\n",
        "linhas, contornos = extrair_dados_imagem(img, config_tesseract)"
      ],
      "metadata": {
        "id": "uRTF4zKWXD9X"
      },
      "execution_count": 26,
      "outputs": []
    },
    {
      "cell_type": "code",
      "source": [
        "print(linhas)"
      ],
      "metadata": {
        "colab": {
          "base_uri": "https://localhost:8080/"
        },
        "outputId": "d0117224-9984-473a-b5d9-eb83cb2e1817",
        "id": "vo0aEn4RXD9Y"
      },
      "execution_count": 27,
      "outputs": [
        {
          "output_type": "stream",
          "name": "stdout",
          "text": [
            "[['O', 'L', 'A', 'R', 'A', 'N', 'J', 'A', 'C', 'R', 'E', 'N'], ['S', 'L', 'N', 'S', 'A', 'H', 'H', 'L', 'A', 'I', 'S', 'D'], ['T', 'D', 'A', 'G', 'E', 'A', 'L', 'N', 'I', 'I', 'O', 'E'], ['S', 'T', 'N', 'U', 'Y', 'O', 'E', 'A', 'D', 'E', 'O', 'W'], ['O', 'A', 'A', 'J', 'O', 'A', 'B', 'A', 'C', 'A', 'T', 'E'], ['M', 'A', 'B', 'A', 'I', 'O', 'G', 'M', 'D', 'C', 'I', 'M'], ['E', 'R', 'R', 'C', 'R', 'E', 'N', 'L', 'A', 'E', 'W', 'O'], ['E', 'R', 'W', 'A', 'L', 'O', 'I', 'V', 'A', 'R', 'G', 'R'], ['S', 'H', 'N', 'S', 'N', 'G', 'M', 'A', 'T', 'O', 'F', 'A'], ['S', 'O', 'E', 'C', 'T', 'I', 'A', 'A', 'Y', 'L', 'W', 'N'], ['E', 'U', 'L', 'V', 'A', 'F', 'A', 'N', 'H', 'A', 'E', 'G'], ['E', 'E', 'G', 'A', 'S', 'E', 'D', 'H', 'H', 'F', 'O', 'O']]\n"
          ]
        }
      ]
    },
    {
      "cell_type": "markdown",
      "source": [
        "## Buscando as palavras"
      ],
      "metadata": {
        "id": "FsiOKgygXD9a"
      }
    },
    {
      "cell_type": "code",
      "source": [
        "palavras = ['acerola', 'amora', 'abacate', 'banana', 'caju', 'figo', 'framboesa', 'goiaba',\n",
        "            'graviola', 'laranja', 'manga', 'morango']"
      ],
      "metadata": {
        "id": "Dap8_4DkXD9a"
      },
      "execution_count": 34,
      "outputs": []
    },
    {
      "cell_type": "code",
      "source": [
        "horizontal, vertical, diagonal_primaria, diagonal_secundaria = encontrar_palavras(linhas, palavras)"
      ],
      "metadata": {
        "id": "HjAjQ-i7XD9b"
      },
      "execution_count": 35,
      "outputs": []
    },
    {
      "cell_type": "code",
      "source": [
        "horizontal"
      ],
      "metadata": {
        "colab": {
          "base_uri": "https://localhost:8080/"
        },
        "outputId": "6b3b2873-d042-4b91-ef6d-8b206702b578",
        "id": "nYMdijakXD9c"
      },
      "execution_count": 36,
      "outputs": [
        {
          "output_type": "execute_result",
          "data": {
            "text/plain": [
              "{'laranja': [0, True, (1, 8)],\n",
              " 'abacate': [4, True, (5, 12)],\n",
              " 'goiaba': [5, False, (5, 11)],\n",
              " 'graviola': [7, False, (1, 9)]}"
            ]
          },
          "metadata": {},
          "execution_count": 36
        }
      ]
    },
    {
      "cell_type": "code",
      "source": [
        "vertical"
      ],
      "metadata": {
        "colab": {
          "base_uri": "https://localhost:8080/"
        },
        "outputId": "bb6bdde1-57f3-4a02-9988-0b58c734af85",
        "id": "b1aVpHadXD9d"
      },
      "execution_count": 37,
      "outputs": [
        {
          "output_type": "execute_result",
          "data": {
            "text/plain": [
              "{'banana': [2, True, (6, 12)],\n",
              " 'caju': [3, True, (5, 9)],\n",
              " 'figo': [5, True, (1, 5)],\n",
              " 'acerola': [9, False, (4, 11)],\n",
              " 'morango': [11, False, (5, 12)]}"
            ]
          },
          "metadata": {},
          "execution_count": 37
        }
      ]
    },
    {
      "cell_type": "code",
      "source": [
        "diagonal_primaria"
      ],
      "metadata": {
        "colab": {
          "base_uri": "https://localhost:8080/"
        },
        "outputId": "1427fa07-aa69-4adf-8a55-e69505c03978",
        "id": "Q_oi1flQXD9e"
      },
      "execution_count": 38,
      "outputs": [
        {
          "output_type": "execute_result",
          "data": {
            "text/plain": [
              "{'manga': [5, True, (0, 5)]}"
            ]
          },
          "metadata": {},
          "execution_count": 38
        }
      ]
    },
    {
      "cell_type": "code",
      "source": [
        "diagonal_secundaria"
      ],
      "metadata": {
        "colab": {
          "base_uri": "https://localhost:8080/"
        },
        "outputId": "03f79a19-96bf-49f7-ff21-77caf2d05b80",
        "id": "c4AkzpoTXD9f"
      },
      "execution_count": 39,
      "outputs": [
        {
          "output_type": "execute_result",
          "data": {
            "text/plain": [
              "{'framboesa': [9, True, (1, 10)], 'amora': [13, True, (2, 7)]}"
            ]
          },
          "metadata": {},
          "execution_count": 39
        }
      ]
    },
    {
      "cell_type": "markdown",
      "source": [
        "## Marcandos as palavras encontradas na imagem"
      ],
      "metadata": {
        "id": "friTf0gGXD9h"
      }
    },
    {
      "cell_type": "code",
      "source": [
        "c0 = np.stack(contornos, axis=0)\n",
        "c1 = np.stack(contornos, axis=1)\n",
        "d1 = [c1[::-1,:].diagonal(i) for i in range(-c1.shape[0]+1,c1.shape[1])]\n",
        "d2 = [c0.diagonal(i) for i in range(c0.shape[1]-1,-c0.shape[0],-1)]"
      ],
      "metadata": {
        "id": "dMSb-fSJXD9h"
      },
      "execution_count": 40,
      "outputs": []
    },
    {
      "cell_type": "code",
      "source": [
        "img_marcada = marcar_palavras(c0, True, horizontal, img, (255, 100, 0))\n",
        "img_marcada = marcar_palavras(c1, False, vertical, img_marcada, (0, 100, 255))\n",
        "img_marcada = marcar_palavras_diagonal(d1, False, diagonal_primaria, img_marcada, 15, 0, (0, 100, 255))\n",
        "img_marcada = marcar_palavras_diagonal(d2, False, diagonal_secundaria, img_marcada, 0, 15, (0, 100, 255))\n",
        "\n",
        "cv2_imshow(img_marcada)"
      ],
      "metadata": {
        "colab": {
          "base_uri": "https://localhost:8080/",
          "height": 371
        },
        "outputId": "7c1b8f75-0338-48e6-8743-f6234b28532c",
        "id": "Ts_Zbc7SXD9i"
      },
      "execution_count": 41,
      "outputs": [
        {
          "output_type": "display_data",
          "data": {
            "text/plain": [
              "<PIL.Image.Image image mode=RGB size=352x354>"
            ],
            "image/png": "[encoded data removed]"
          },
          "metadata": {}
        }
      ]
    },
    {
      "cell_type": "markdown",
      "source": [
        "# Solucionando o caça-palavras (18 x 12)\n",
        "\n",
        "---\n",
        "\n"
      ],
      "metadata": {
        "id": "dhk8cIHsXYbW"
      }
    },
    {
      "cell_type": "markdown",
      "source": [
        "## Leitura da imagem"
      ],
      "metadata": {
        "id": "3ogmzEPPXYb2"
      }
    },
    {
      "cell_type": "code",
      "source": [
        "config_tesseract = '--tessdata-dir tessdata --psm 10 --oem 2 -c tessedit_char_whitelist=ABCDEFGHIJKLMNOPQRSTUVWXYZ'\n",
        "img = cv2.imread('/content/img/caca_palavra_06.PNG')\n",
        "\n",
        "linhas, contornos = extrair_dados_imagem(img, config_tesseract)"
      ],
      "metadata": {
        "id": "gGf5UQ0HXYb2"
      },
      "execution_count": null,
      "outputs": []
    },
    {
      "cell_type": "code",
      "source": [
        "print(linhas)"
      ],
      "metadata": {
        "colab": {
          "base_uri": "https://localhost:8080/"
        },
        "outputId": "970b5271-a4fc-45b6-bc5e-6cf30dc183b8",
        "id": "_8ImiiPMXYb2"
      },
      "execution_count": null,
      "outputs": [
        {
          "output_type": "stream",
          "name": "stdout",
          "text": [
            "[['E', 'E', 'E', 'S', 'E', 'W', 'A', 'I', 'M', 'D', 'B', 'R', 'P', 'I', 'N', 'O', 'I', 'U', 'G', 'O', 'L', 'E'], ['G', 'A', 'S', 'E', 'U', 'Q', 'R', 'U', 'T', 'O', 'L', 'H', 'R', 'E', 'B', 'R', 'O', 'N', 'Z', 'E', 'P', 'S'], ['R', 'S', 'I', 'D', 'S', 'T', 'L', 'U', 'Z', 'A', 'E', 'H', 'E', 'E', 'M', 'R', 'N', 'H', 'O', 'I', 'A', 'T'], ['S', 'O', 'H', 'H', 'U', 'Y', 'A', 'A', 'A', 'V', 'H', 'I', 'H', 'O', 'E', 'U', 'M', 'O', 'L', 'T', 'V', 'C'], ['S', 'R', 'F', 'N', 'T', 'N', 'R', 'H', 'O', 'T', 'E', 'T', 'A', 'L', 'R', 'A', 'C', 'S', 'E', 'S', 'I', 'A'], ['N', 'A', 'A', 'I', 'H', 'L', 'A', 'A', 'A', 'A', 'O', 'R', 'E', 'S', 'A', 'T', 'S', 'S', 'M', 'T', 'L', 'S'], ['T', 'Y', 'I', 'M', 'O', 'I', 'N', 'E', 'N', 'A', 'C', 'A', 'M', 'D', 'L', 'R', 'F', 'E', 'A', 'R', 'O', 'T'], ['R', 'R', 'S', 'R', 'I', 'E', 'J', 'E', 'M', 'R', 'N', 'A', 'L', 'E', 'R', 'W', 'I', 'U', 'R', 'I', 'S', 'A'], ['W', 'O', 'H', 'A', 'A', 'F', 'A', 'A', 'R', 'O', 'A', 'A', 'E', 'N', 'L', 'E', 'S', 'V', 'A', 'E', 'N', 'N'], ['O', 'L', 'C', 'C', 'A', 'T', 'R', 'D', 'T', 'N', 'R', 'E', 'E', 'N', 'N', 'H', 'V', 'D', 'C', 'R', 'T', 'H'], ['G', 'Y', 'U', 'S', 'O', 'E', 'H', 'A', 'N', 'E', 'B', 'R', 'P', 'R', 'E', 'T', 'O', 'D', 'F', 'E', 'T', 'O'], ['I', 'S', 'F', 'I', 'L', 'E', 'A', 'U', 'M', 'O', 'L', 'B', 'A', 'F', 'S', 'U', 'R', 'E', 'O', 'M', 'L', 'N'], ['D', 'E', 'A', 'O', 'A', 'G', 'A', 'S', 'H', 'N', 'H', 'O', 'E', 'M', 'R', 'N', 'E', 'E', 'O', 'E', 'M', 'P'], ['N', 'N', 'T', 'T', 'C', 'A', 'E', 'T', 'B', 'I', 'Y', 'P', 'I', 'A', 'Y', 'A', 'T', 'R', 'O', 'R', 'D', 'A'], ['I', 'E', 'O', 'Y', 'H', 'F', 'I', 'S', 'S', 'F', 'U', 'Z', 'D', 'V', 'H', 'I', 'E', 'T', 'N', 'C', 'R', 'H'], ['M', 'D', 'O', 'U', 'C', 'T', 'W', 'W', 'D', 'O', 'Y', 'O', 'O', 'L', 'S', 'O', 'O', 'T', 'B', 'H', 'S', 'O']]\n"
          ]
        }
      ]
    },
    {
      "cell_type": "markdown",
      "source": [
        "## Buscando as palavras"
      ],
      "metadata": {
        "id": "3VI7qBF_XYb3"
      }
    },
    {
      "cell_type": "code",
      "source": [
        "palavras = ['alface', 'batata', 'beterraba', 'couve', 'espinafre', 'mandioca', 'maxixe',\n",
        "            'nabo', 'pimenta', 'pepino', 'rabanete', 'tomate']"
      ],
      "metadata": {
        "id": "tajcDxXeXYb3"
      },
      "execution_count": null,
      "outputs": []
    },
    {
      "cell_type": "code",
      "source": [
        "horizontal, vertical, diagonal_primaria, diagonal_secundaria = encontrar_palavras(linhas, palavras)"
      ],
      "metadata": {
        "id": "oel3tO8bXYb4"
      },
      "execution_count": null,
      "outputs": []
    },
    {
      "cell_type": "code",
      "source": [
        "horizontal"
      ],
      "metadata": {
        "colab": {
          "base_uri": "https://localhost:8080/"
        },
        "outputId": "f422f136-2a8d-4853-82d3-65ff52741391",
        "id": "u_a1J7byXYb4"
      },
      "execution_count": null,
      "outputs": [
        {
          "output_type": "execute_result",
          "data": {
            "text/plain": [
              "{'bronze': [1, True, (14, 20)],\n",
              " 'turquesa': [1, False, (13, 21)],\n",
              " 'azul': [2, False, (12, 16)],\n",
              " 'escarlate': [4, False, (3, 12)],\n",
              " 'preto': [10, True, (12, 17)]}"
            ]
          },
          "metadata": {},
          "execution_count": 17
        }
      ]
    },
    {
      "cell_type": "code",
      "source": [
        "vertical"
      ],
      "metadata": {
        "colab": {
          "base_uri": "https://localhost:8080/"
        },
        "outputId": "208efe46-cd36-4a04-dd79-3aecae40d539",
        "id": "OJd6uX8TXYb4"
      },
      "execution_count": null,
      "outputs": [
        {
          "output_type": "execute_result",
          "data": {
            "text/plain": [
              "{'indigo': [0, True, (1, 7)],\n",
              " 'fuchsia': [2, True, (4, 11)],\n",
              " 'carmin': [3, True, (6, 12)],\n",
              " 'laranja': [6, False, (2, 9)],\n",
              " 'branco': [10, True, (5, 11)],\n",
              " 'caramelo': [18, True, (6, 14)],\n",
              " 'creme': [19, True, (1, 6)],\n",
              " 'oliva': [20, True, (9, 14)],\n",
              " 'castanho': [21, False, (3, 11)]}"
            ]
          },
          "metadata": {},
          "execution_count": 18
        }
      ]
    },
    {
      "cell_type": "code",
      "source": [
        "diagonal_primaria"
      ],
      "metadata": {
        "colab": {
          "base_uri": "https://localhost:8080/"
        },
        "outputId": "d044de6f-8ddc-4875-b71d-a19a634367ba",
        "id": "60uh97FxXYb4"
      },
      "execution_count": null,
      "outputs": [
        {
          "output_type": "execute_result",
          "data": {
            "text/plain": [
              "{'amarelo': [15, False, (6, 13)],\n",
              " 'esmeralda': [19, True, (2, 11)],\n",
              " 'dourado': [26, False, (4, 11)]}"
            ]
          },
          "metadata": {},
          "execution_count": 19
        }
      ]
    },
    {
      "cell_type": "code",
      "source": [
        "diagonal_secundaria"
      ],
      "metadata": {
        "colab": {
          "base_uri": "https://localhost:8080/"
        },
        "outputId": "b52ef828-b5e6-44db-8413-172437380043",
        "id": "evQFt_ZEXYb5"
      },
      "execution_count": null,
      "outputs": [
        {
          "output_type": "execute_result",
          "data": {
            "text/plain": [
              "{'verde': [14, True, (5, 10)],\n",
              " 'vermelho': [15, False, (3, 11)],\n",
              " 'marrom': [20, True, (3, 9)],\n",
              " 'violeta': [22, True, (1, 8)],\n",
              " 'marfim': [24, True, (4, 10)]}"
            ]
          },
          "metadata": {},
          "execution_count": 20
        }
      ]
    },
    {
      "cell_type": "markdown",
      "source": [
        "## Marcandos as palavras encontradas na imagem"
      ],
      "metadata": {
        "id": "knxggVOKXYb5"
      }
    },
    {
      "cell_type": "code",
      "source": [
        "c0 = np.stack(contornos, axis=0)\n",
        "c1 = np.stack(contornos, axis=1)\n",
        "d1 = [c1[::-1,:].diagonal(i) for i in range(-c1.shape[0]+1,c1.shape[1])]\n",
        "d2 = [c0.diagonal(i) for i in range(c0.shape[1]-1,-c0.shape[0],-1)]"
      ],
      "metadata": {
        "id": "4a-crM5vXYb5"
      },
      "execution_count": null,
      "outputs": []
    },
    {
      "cell_type": "code",
      "source": [
        "img_marcada = marcar_palavras(c0, True, horizontal, img, (255, 100, 0))\n",
        "img_marcada = marcar_palavras(c1, False, vertical, img_marcada, (0, 100, 255))\n",
        "img_marcada = marcar_palavras_diagonal(d1, False, diagonal_primaria, img_marcada, 15, 0, (0, 100, 255))\n",
        "img_marcada = marcar_palavras_diagonal(d2, False, diagonal_secundaria, img_marcada, 0, 15, (0, 100, 255))\n",
        "\n",
        "cv2_imshow(img_marcada)"
      ],
      "metadata": {
        "colab": {
          "base_uri": "https://localhost:8080/",
          "height": 502
        },
        "outputId": "0e702996-51e7-4edb-a9b2-6d58925a9bf1",
        "id": "MDeTuRB1XYb5"
      },
      "execution_count": null,
      "outputs": [
        {
          "output_type": "display_data",
          "data": {
            "text/plain": [
              "<PIL.Image.Image image mode=RGB size=659x485>"
            ],
            "image/png": "[encoded data removed]"
          },
          "metadata": {}
        }
      ]
    },
    {
      "cell_type": "markdown",
      "source": [
        "# Solucionando o caça-palavras (16 x 22)\n",
        "\n",
        "---\n",
        "\n"
      ],
      "metadata": {
        "id": "yjNf7CMtCqH-"
      }
    },
    {
      "cell_type": "markdown",
      "source": [
        "## Leitura da imagem"
      ],
      "metadata": {
        "id": "u_VJ76ugU8dG"
      }
    },
    {
      "cell_type": "code",
      "source": [
        "config_tesseract = '--tessdata-dir tessdata --psm 10 --oem 2 -c tessedit_char_whitelist=ABCDEFGHIJKLMNOPQRSTUVWXYZ'\n",
        "img = cv2.imread('/content/img/caca_palavra_06.PNG')\n",
        "\n",
        "linhas, contornos = extrair_dados_imagem(img, config_tesseract)"
      ],
      "metadata": {
        "id": "ALOgtJquUhbs"
      },
      "execution_count": 7,
      "outputs": []
    },
    {
      "cell_type": "code",
      "source": [
        "print(linhas)"
      ],
      "metadata": {
        "colab": {
          "base_uri": "https://localhost:8080/"
        },
        "id": "hzPZYCknUtov",
        "outputId": "970b5271-a4fc-45b6-bc5e-6cf30dc183b8"
      },
      "execution_count": 24,
      "outputs": [
        {
          "output_type": "stream",
          "name": "stdout",
          "text": [
            "[['E', 'E', 'E', 'S', 'E', 'W', 'A', 'I', 'M', 'D', 'B', 'R', 'P', 'I', 'N', 'O', 'I', 'U', 'G', 'O', 'L', 'E'], ['G', 'A', 'S', 'E', 'U', 'Q', 'R', 'U', 'T', 'O', 'L', 'H', 'R', 'E', 'B', 'R', 'O', 'N', 'Z', 'E', 'P', 'S'], ['R', 'S', 'I', 'D', 'S', 'T', 'L', 'U', 'Z', 'A', 'E', 'H', 'E', 'E', 'M', 'R', 'N', 'H', 'O', 'I', 'A', 'T'], ['S', 'O', 'H', 'H', 'U', 'Y', 'A', 'A', 'A', 'V', 'H', 'I', 'H', 'O', 'E', 'U', 'M', 'O', 'L', 'T', 'V', 'C'], ['S', 'R', 'F', 'N', 'T', 'N', 'R', 'H', 'O', 'T', 'E', 'T', 'A', 'L', 'R', 'A', 'C', 'S', 'E', 'S', 'I', 'A'], ['N', 'A', 'A', 'I', 'H', 'L', 'A', 'A', 'A', 'A', 'O', 'R', 'E', 'S', 'A', 'T', 'S', 'S', 'M', 'T', 'L', 'S'], ['T', 'Y', 'I', 'M', 'O', 'I', 'N', 'E', 'N', 'A', 'C', 'A', 'M', 'D', 'L', 'R', 'F', 'E', 'A', 'R', 'O', 'T'], ['R', 'R', 'S', 'R', 'I', 'E', 'J', 'E', 'M', 'R', 'N', 'A', 'L', 'E', 'R', 'W', 'I', 'U', 'R', 'I', 'S', 'A'], ['W', 'O', 'H', 'A', 'A', 'F', 'A', 'A', 'R', 'O', 'A', 'A', 'E', 'N', 'L', 'E', 'S', 'V', 'A', 'E', 'N', 'N'], ['O', 'L', 'C', 'C', 'A', 'T', 'R', 'D', 'T', 'N', 'R', 'E', 'E', 'N', 'N', 'H', 'V', 'D', 'C', 'R', 'T', 'H'], ['G', 'Y', 'U', 'S', 'O', 'E', 'H', 'A', 'N', 'E', 'B', 'R', 'P', 'R', 'E', 'T', 'O', 'D', 'F', 'E', 'T', 'O'], ['I', 'S', 'F', 'I', 'L', 'E', 'A', 'U', 'M', 'O', 'L', 'B', 'A', 'F', 'S', 'U', 'R', 'E', 'O', 'M', 'L', 'N'], ['D', 'E', 'A', 'O', 'A', 'G', 'A', 'S', 'H', 'N', 'H', 'O', 'E', 'M', 'R', 'N', 'E', 'E', 'O', 'E', 'M', 'P'], ['N', 'N', 'T', 'T', 'C', 'A', 'E', 'T', 'B', 'I', 'Y', 'P', 'I', 'A', 'Y', 'A', 'T', 'R', 'O', 'R', 'D', 'A'], ['I', 'E', 'O', 'Y', 'H', 'F', 'I', 'S', 'S', 'F', 'U', 'Z', 'D', 'V', 'H', 'I', 'E', 'T', 'N', 'C', 'R', 'H'], ['M', 'D', 'O', 'U', 'C', 'T', 'W', 'W', 'D', 'O', 'Y', 'O', 'O', 'L', 'S', 'O', 'O', 'T', 'B', 'H', 'S', 'O']]\n"
          ]
        }
      ]
    },
    {
      "cell_type": "markdown",
      "source": [
        "## Buscando as palavras"
      ],
      "metadata": {
        "id": "afG6o_r-C5BZ"
      }
    },
    {
      "cell_type": "code",
      "source": [
        "palavras = ['azul', 'amarelo', 'branco', 'bronze', 'caramelo', 'carmin', 'castanho', 'creme', 'dourado', 'esmeralda',\n",
        "           'escarlate', 'fuchsia', 'indigo', 'laranja', 'marrom', 'marfim', 'oliva', 'preto', 'turquesa', 'vermelho',\n",
        "           'verde', 'violeta']"
      ],
      "metadata": {
        "id": "sis25k7m_N7D"
      },
      "execution_count": 10,
      "outputs": []
    },
    {
      "cell_type": "code",
      "source": [
        "horizontal, vertical, diagonal_primaria, diagonal_secundaria = encontrar_palavras(linhas, palavras)"
      ],
      "metadata": {
        "id": "hNRQVm8gCm8e"
      },
      "execution_count": 16,
      "outputs": []
    },
    {
      "cell_type": "code",
      "source": [
        "horizontal"
      ],
      "metadata": {
        "colab": {
          "base_uri": "https://localhost:8080/"
        },
        "id": "WQP_oiI2_WPS",
        "outputId": "f422f136-2a8d-4853-82d3-65ff52741391"
      },
      "execution_count": 17,
      "outputs": [
        {
          "output_type": "execute_result",
          "data": {
            "text/plain": [
              "{'bronze': [1, True, (14, 20)],\n",
              " 'turquesa': [1, False, (13, 21)],\n",
              " 'azul': [2, False, (12, 16)],\n",
              " 'escarlate': [4, False, (3, 12)],\n",
              " 'preto': [10, True, (12, 17)]}"
            ]
          },
          "metadata": {},
          "execution_count": 17
        }
      ]
    },
    {
      "cell_type": "code",
      "source": [
        "vertical"
      ],
      "metadata": {
        "colab": {
          "base_uri": "https://localhost:8080/"
        },
        "id": "INvdBiHo_azT",
        "outputId": "208efe46-cd36-4a04-dd79-3aecae40d539"
      },
      "execution_count": 18,
      "outputs": [
        {
          "output_type": "execute_result",
          "data": {
            "text/plain": [
              "{'indigo': [0, True, (1, 7)],\n",
              " 'fuchsia': [2, True, (4, 11)],\n",
              " 'carmin': [3, True, (6, 12)],\n",
              " 'laranja': [6, False, (2, 9)],\n",
              " 'branco': [10, True, (5, 11)],\n",
              " 'caramelo': [18, True, (6, 14)],\n",
              " 'creme': [19, True, (1, 6)],\n",
              " 'oliva': [20, True, (9, 14)],\n",
              " 'castanho': [21, False, (3, 11)]}"
            ]
          },
          "metadata": {},
          "execution_count": 18
        }
      ]
    },
    {
      "cell_type": "code",
      "source": [
        "diagonal_primaria"
      ],
      "metadata": {
        "colab": {
          "base_uri": "https://localhost:8080/"
        },
        "id": "UpaNLbgn_ehi",
        "outputId": "d044de6f-8ddc-4875-b71d-a19a634367ba"
      },
      "execution_count": 19,
      "outputs": [
        {
          "output_type": "execute_result",
          "data": {
            "text/plain": [
              "{'amarelo': [15, False, (6, 13)],\n",
              " 'esmeralda': [19, True, (2, 11)],\n",
              " 'dourado': [26, False, (4, 11)]}"
            ]
          },
          "metadata": {},
          "execution_count": 19
        }
      ]
    },
    {
      "cell_type": "code",
      "source": [
        "diagonal_secundaria"
      ],
      "metadata": {
        "colab": {
          "base_uri": "https://localhost:8080/"
        },
        "id": "9wi1qeuf_kP1",
        "outputId": "b52ef828-b5e6-44db-8413-172437380043"
      },
      "execution_count": 20,
      "outputs": [
        {
          "output_type": "execute_result",
          "data": {
            "text/plain": [
              "{'verde': [14, True, (5, 10)],\n",
              " 'vermelho': [15, False, (3, 11)],\n",
              " 'marrom': [20, True, (3, 9)],\n",
              " 'violeta': [22, True, (1, 8)],\n",
              " 'marfim': [24, True, (4, 10)]}"
            ]
          },
          "metadata": {},
          "execution_count": 20
        }
      ]
    },
    {
      "cell_type": "markdown",
      "source": [
        "## Marcandos as palavras encontradas na imagem"
      ],
      "metadata": {
        "id": "WfNZTCsYC83x"
      }
    },
    {
      "cell_type": "code",
      "source": [
        "c0 = np.stack(contornos, axis=0)\n",
        "c1 = np.stack(contornos, axis=1)\n",
        "d1 = [c1[::-1,:].diagonal(i) for i in range(-c1.shape[0]+1,c1.shape[1])]\n",
        "d2 = [c0.diagonal(i) for i in range(c0.shape[1]-1,-c0.shape[0],-1)]"
      ],
      "metadata": {
        "id": "TQe4yd3urEam"
      },
      "execution_count": 21,
      "outputs": []
    },
    {
      "cell_type": "code",
      "source": [
        "img_marcada = marcar_palavras(c0, True, horizontal, img, (255, 100, 0))\n",
        "img_marcada = marcar_palavras(c1, False, vertical, img_marcada, (0, 100, 255))\n",
        "img_marcada = marcar_palavras_diagonal(d1, False, diagonal_primaria, img_marcada, 15, 0, (0, 100, 255))\n",
        "img_marcada = marcar_palavras_diagonal(d2, False, diagonal_secundaria, img_marcada, 0, 15, (0, 100, 255))\n",
        "\n",
        "cv2_imshow(img_marcada)"
      ],
      "metadata": {
        "colab": {
          "base_uri": "https://localhost:8080/",
          "height": 502
        },
        "id": "gEdH9_s3ScM4",
        "outputId": "0e702996-51e7-4edb-a9b2-6d58925a9bf1"
      },
      "execution_count": 22,
      "outputs": [
        {
          "output_type": "display_data",
          "data": {
            "text/plain": [
              "<PIL.Image.Image image mode=RGB size=659x485>"
            ],
            "image/png": "[encoded data removed]"
          },
          "metadata": {}
        }
      ]
    }
  ]
}